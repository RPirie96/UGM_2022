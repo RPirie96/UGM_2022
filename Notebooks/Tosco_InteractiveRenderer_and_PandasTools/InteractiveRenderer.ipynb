{
 "cells": [
  {
   "cell_type": "code",
   "execution_count": null,
   "metadata": {},
   "outputs": [],
   "source": [
    "import rdkit"
   ]
  },
  {
   "cell_type": "code",
   "execution_count": null,
   "metadata": {},
   "outputs": [],
   "source": [
    "rdkit.__version__"
   ]
  },
  {
   "cell_type": "code",
   "execution_count": null,
   "metadata": {},
   "outputs": [],
   "source": [
    "from rdkit import Chem\n",
    "from rdkit.Chem import PandasTools\n",
    "from rdkit.Chem.Draw import rdMolDraw2D, rdDepictor, IPythonConsole, MolsToGridImage\n",
    "import pandas as pd\n",
    "import os\n",
    "import pickle"
   ]
  },
  {
   "cell_type": "code",
   "execution_count": null,
   "metadata": {},
   "outputs": [],
   "source": [
    "os.getcwd()"
   ]
  },
  {
   "cell_type": "code",
   "execution_count": null,
   "metadata": {},
   "outputs": [],
   "source": [
    "with open(\"JupyterDrawOptions.json\") as hnd:\n",
    "    rdMolDraw2D.UpdateMolDrawOptionsFromJSON(IPythonConsole.drawOptions, hnd.read())"
   ]
  },
  {
   "cell_type": "code",
   "execution_count": null,
   "metadata": {},
   "outputs": [],
   "source": [
    "IPythonConsole.InteractiveRenderer.setEnabled()"
   ]
  },
  {
   "cell_type": "code",
   "execution_count": null,
   "metadata": {},
   "outputs": [],
   "source": [
    "IPythonConsole.ipython_useSVG = True\n",
    "IPythonConsole.molSize = (300, 200)\n",
    "PandasTools.molSize = (300, 200)\n",
    "PandasTools.RenderImagesInAllDataFrames()"
   ]
  },
  {
   "cell_type": "code",
   "execution_count": null,
   "metadata": {},
   "outputs": [],
   "source": [
    "chembl_quinolones_tsv = os.path.join(os.path.dirname(Chem.__file__), \"nbtests\", \"ChEMBL_quinolones.tsv\")"
   ]
  },
  {
   "cell_type": "code",
   "execution_count": null,
   "metadata": {},
   "outputs": [],
   "source": [
    "scaffold_smiles = \"c12ccccc1NC=CC(=O)2\""
   ]
  },
  {
   "cell_type": "code",
   "execution_count": null,
   "metadata": {},
   "outputs": [],
   "source": [
    "scaffold = Chem.MolFromSmiles(scaffold_smiles)"
   ]
  },
  {
   "cell_type": "code",
   "execution_count": null,
   "metadata": {},
   "outputs": [],
   "source": [
    "rdDepictor.Compute2DCoords(scaffold)"
   ]
  },
  {
   "cell_type": "code",
   "execution_count": null,
   "metadata": {},
   "outputs": [],
   "source": [
    "rdDepictor.NormalizeDepiction(scaffold)\n",
    "rdDepictor.StraightenDepiction(scaffold)"
   ]
  },
  {
   "cell_type": "code",
   "execution_count": null,
   "metadata": {},
   "outputs": [],
   "source": [
    "scaffold"
   ]
  },
  {
   "cell_type": "code",
   "execution_count": null,
   "metadata": {},
   "outputs": [],
   "source": [
    "def add_renderer_opts(mol, opts={}):\n",
    "    IPythonConsole.InteractiveRenderer.setOpts(mol, opts)\n",
    "    return mol"
   ]
  },
  {
   "cell_type": "code",
   "execution_count": null,
   "metadata": {},
   "outputs": [],
   "source": [
    "PandasTools.molRepresentation = \"svg\""
   ]
  },
  {
   "cell_type": "code",
   "execution_count": null,
   "metadata": {},
   "outputs": [],
   "source": [
    "df = pd.read_csv(chembl_quinolones_tsv, sep=\"\\t\")\n",
    "smiles = df.pop(\"Smiles\")\n",
    "df.insert(0, \"Smiles\", [add_renderer_opts(Chem.MolFromSmiles(s),\n",
    "    {\"data-scaffold\": scaffold}) for s in smiles])\n",
    "df.insert(1, \"Scaffold\", [add_renderer_opts(scaffold,\n",
    "    {\"data-hide-cog\": True}) for _ in smiles])"
   ]
  },
  {
   "cell_type": "code",
   "execution_count": null,
   "metadata": {
    "tags": []
   },
   "outputs": [],
   "source": [
    "df"
   ]
  },
  {
   "cell_type": "code",
   "execution_count": null,
   "metadata": {},
   "outputs": [],
   "source": [
    "df_subset = df.loc[[45, 48, 49]]"
   ]
  },
  {
   "cell_type": "code",
   "execution_count": null,
   "metadata": {},
   "outputs": [],
   "source": [
    "df_subset"
   ]
  },
  {
   "cell_type": "code",
   "execution_count": null,
   "metadata": {},
   "outputs": [],
   "source": [
    "df_subset[\"Smiles\"] = df_subset.Smiles.apply(lambda m: add_renderer_opts(m, {\"data-scaffold\": scaffold, \"data-scaffold-align\": True}))"
   ]
  },
  {
   "cell_type": "code",
   "execution_count": null,
   "metadata": {},
   "outputs": [],
   "source": [
    "df_subset"
   ]
  },
  {
   "cell_type": "code",
   "execution_count": null,
   "metadata": {},
   "outputs": [],
   "source": [
    "maraviroc = Chem.MolFromMolBlock(\"maraviroc\\n     RDKit          2D\\n\\n 37 41  0  0  1  0  0  0  0  0999 V2000\\n    1.6688   -2.5666    0.0000 N   0  0  0  0  0  0  0  0  0  0  0  0\\n    2.8562   -3.1708    0.0000 N   0  0  0  0  0  0  0  0  0  0  0  0\\n    2.4813   -2.4333    0.0000 C   0  0  0  0  0  0  0  0  0  0  0  0\\n    2.2771   -3.7542    0.0000 N   0  0  0  0  0  0  0  0  0  0  0  0\\n   -0.1187   -0.3667    0.0000 N   0  0  0  0  0  0  0  0  0  0  0  0\\n    1.0813   -1.9834    0.0000 C   0  0  0  0  0  0  0  0  0  0  0  0\\n    1.5438   -3.3750    0.0000 C   0  0  0  0  0  0  0  0  0  0  0  0\\n   -0.8312    1.6958    0.0000 C   0  0  0  0  0  0  0  0  0  0  0  0\\n   -0.2479   -1.6291    0.0000 C   0  0  0  0  0  0  0  0  0  0  0  0\\n    0.3687   -0.9584    0.0000 C   0  0  0  0  0  0  0  0  0  0  0  0\\n    0.4687   -1.6291    0.0000 C   0  0  0  0  0  0  0  0  0  0  0  0\\n    0.9062   -1.0667    0.0000 C   0  0  0  0  0  0  0  0  0  0  0  0\\n   -0.1187    2.1083    0.0000 N   0  0  0  0  0  0  0  0  0  0  0  0\\n   -0.1187    0.4583    0.0000 C   0  0  0  0  0  0  0  0  0  0  0  0\\n   -2.9687    2.9333    0.0000 C   0  0  0  0  0  0  0  0  0  0  0  0\\n    0.6020    1.6958    0.0000 C   0  0  0  0  0  0  0  0  0  0  0  0\\n    0.5937    0.8708    0.0000 C   0  0  0  0  0  0  0  0  0  0  0  0\\n   -1.5437    2.1083    0.0000 C   0  0  0  0  0  0  0  0  0  0  0  0\\n   -0.8312    0.8708    0.0000 O   0  0  0  0  0  0  0  0  0  0  0  0\\n   -0.5937   -1.1917    0.0000 C   0  0  0  0  0  0  0  0  0  0  0  0\\n   -0.8104   -2.0333    0.0000 C   0  0  0  0  0  0  0  0  0  0  0  0\\n    2.8562   -1.6958    0.0000 C   0  0  0  0  0  0  0  0  0  0  0  0\\n    1.3145    2.1083    0.0000 C   0  0  0  0  0  0  0  0  0  0  0  0\\n   -1.5437    2.9333    0.0000 C   0  0  0  0  0  0  0  0  0  0  0  0\\n   -2.2562    1.7042    0.0000 C   0  0  0  0  0  0  0  0  0  0  0  0\\n   -2.2562    3.3542    0.0000 C   0  0  0  0  0  0  0  0  0  0  0  0\\n   -2.9687    2.1083    0.0000 C   0  0  0  0  0  0  0  0  0  0  0  0\\n   -3.6812    2.5292    0.0000 F   0  0  0  0  0  0  0  0  0  0  0  0\\n   -2.9687    3.7583    0.0000 F   0  0  0  0  0  0  0  0  0  0  0  0\\n    0.8063   -3.7583    0.0000 C   0  0  0  0  0  0  0  0  0  0  0  0\\n    2.0312    1.6917    0.0000 C   0  0  0  0  0  0  0  0  0  0  0  0\\n    1.3145    2.9292    0.0000 C   0  0  0  0  0  0  0  0  0  0  0  0\\n    3.6812   -1.6584    0.0000 C   0  0  0  0  0  0  0  0  0  0  0  0\\n    2.4063   -1.0083    0.0000 C   0  0  0  0  0  0  0  0  0  0  0  0\\n    2.0271    3.3417    0.0000 C   0  0  0  0  0  0  0  0  0  0  0  0\\n    2.7437    2.1042    0.0000 C   0  0  0  0  0  0  0  0  0  0  0  0\\n    2.7437    2.9292    0.0000 C   0  0  0  0  0  0  0  0  0  0  0  0\\n  2  3  2  0\\n  3  1  1  0\\n  4  7  2  0\\n  5 10  1  0\\n  6  1  1  0\\n  7  1  1  0\\n  8 13  1  0\\n  9 11  1  6\\n 10 12  1  1\\n 11  6  1  0\\n 12  6  1  0\\n 16 13  1  0\\n 14  5  1  0\\n 15 27  1  0\\n 16 17  1  6\\n 17 14  1  0\\n 18  8  1  0\\n 19  8  2  0\\n 20 10  1  0\\n 21  9  1  0\\n 22  3  1  0\\n 23 16  1  0\\n 24 18  1  0\\n 25 18  1  0\\n 26 24  1  0\\n 27 25  1  0\\n 28 15  1  0\\n 29 15  1  0\\n 30  7  1  0\\n 31 23  2  0\\n 32 23  1  0\\n 33 22  1  0\\n 34 22  1  0\\n 35 32  2  0\\n 36 31  1  0\\n 37 35  1  0\\n  4  2  1  0\\n  5  9  1  0\\n 20 21  1  0\\n 36 37  2  0\\n 26 15  1  0\\nM  END\\n\")"
   ]
  },
  {
   "cell_type": "code",
   "execution_count": null,
   "metadata": {},
   "outputs": [],
   "source": [
    "maraviroc"
   ]
  },
  {
   "cell_type": "code",
   "execution_count": null,
   "metadata": {},
   "outputs": [],
   "source": [
    "triazole_scaffold = Chem.MolFromMolBlock('\\n     RDKit          2D\\n\\n 10 10  0  0  0  0  0  0  0  0999 V2000\\n   -3.3900    1.1482    0.0000 N   0  0  0  0  0  0  0  0  0  0  0  0\\n   -4.6414    0.2389    0.0000 C   0  0  0  0  0  0  0  0  0  0  0  0\\n   -4.1634   -1.2321    0.0000 N   0  0  0  0  0  0  0  0  0  0  0  0\\n   -2.6166   -1.2321    0.0000 N   0  0  0  0  0  0  0  0  0  0  0  0\\n   -2.1386    0.2389    0.0000 C   0  0  0  0  0  0  0  0  0  0  0  0\\n   -6.1125    0.7168    0.0000 C   0  0  0  0  0  0  0  0  0  0  0  0\\n   -3.3900    2.6951    0.0000 R#  0  0  0  0  0  0  0  0  0  0  0  0\\n   -0.6675    0.7168    0.0000 C   0  0  0  0  0  0  0  0  0  0  0  0\\n   -7.2621   -0.3180    0.0000 C   0  0  0  0  0  0  0  0  0  0  0  0\\n   -6.4342    2.2299    0.0000 C   0  0  0  0  0  0  0  0  0  0  0  0\\n  1  2  1  0\\n  1  5  1  0\\n  2  3  2  0\\n  4  5  2  0\\n  3  4  1  0\\n  1  7  1  0\\n  5  8  1  0\\n  2  6  1  0\\n  6  9  1  0\\n  6 10  1  0\\nM  RGP  1   7   1\\nV    7 *\\nM  END\\n')"
   ]
  },
  {
   "cell_type": "code",
   "execution_count": null,
   "metadata": {},
   "outputs": [],
   "source": [
    "triazole_scaffold"
   ]
  },
  {
   "cell_type": "code",
   "execution_count": null,
   "metadata": {},
   "outputs": [],
   "source": [
    "add_renderer_opts(maraviroc, {\"data-scaffold\": triazole_scaffold});\n",
    "add_renderer_opts(triazole_scaffold, {\"data-hide-cog\": True});"
   ]
  },
  {
   "cell_type": "code",
   "execution_count": null,
   "metadata": {},
   "outputs": [],
   "source": [
    "maraviroc_df = pd.DataFrame({\"Mol\": [maraviroc], \"Scaffold\": [triazole_scaffold]})"
   ]
  },
  {
   "cell_type": "code",
   "execution_count": null,
   "metadata": {},
   "outputs": [],
   "source": [
    "maraviroc_df"
   ]
  },
  {
   "cell_type": "code",
   "execution_count": null,
   "metadata": {},
   "outputs": [],
   "source": [
    "maraviroc = Chem.MolFromSmiles('Cc1nnc(C(C)C)n1C1C[C@H]2CC[C@@H](C1)N2CC[C@H](NC(=O)C1CCC(F)(F)CC1)c1ccccc1')"
   ]
  },
  {
   "cell_type": "code",
   "execution_count": null,
   "metadata": {},
   "outputs": [],
   "source": [
    "maraviroc"
   ]
  },
  {
   "cell_type": "code",
   "execution_count": null,
   "metadata": {},
   "outputs": [],
   "source": [
    "triazole_scaffold = Chem.MolFromMolBlock('\\n     RDKit          2D\\n\\n 10 10  0  0  0  0  0  0  0  0999 V2000\\n   -3.3900    1.1482    0.0000 N   0  0  0  0  0  0  0  0  0  0  0  0\\n   -4.6414    0.2389    0.0000 C   0  0  0  0  0  0  0  0  0  0  0  0\\n   -4.1634   -1.2321    0.0000 N   0  0  0  0  0  0  0  0  0  0  0  0\\n   -2.6166   -1.2321    0.0000 N   0  0  0  0  0  0  0  0  0  0  0  0\\n   -2.1386    0.2389    0.0000 C   0  0  0  0  0  0  0  0  0  0  0  0\\n   -6.1125    0.7168    0.0000 C   0  0  0  0  0  0  0  0  0  0  0  0\\n   -3.3900    2.6951    0.0000 R#  0  0  0  0  0  0  0  0  0  0  0  0\\n   -0.6675    0.7168    0.0000 C   0  0  0  0  0  0  0  0  0  0  0  0\\n   -7.2621   -0.3180    0.0000 C   0  0  0  0  0  0  0  0  0  0  0  0\\n   -6.4342    2.2299    0.0000 C   0  0  0  0  0  0  0  0  0  0  0  0\\n  1  2  1  0\\n  1  5  1  0\\n  2  3  2  0\\n  4  5  2  0\\n  3  4  1  0\\n  1  7  1  0\\n  5  8  1  0\\n  2  6  1  0\\n  6  9  1  0\\n  6 10  1  0\\nM  RGP  1   7   1\\nV    7 *\\nM  END\\n')"
   ]
  },
  {
   "cell_type": "code",
   "execution_count": null,
   "metadata": {},
   "outputs": [],
   "source": [
    "triazole_scaffold"
   ]
  },
  {
   "cell_type": "code",
   "execution_count": null,
   "metadata": {},
   "outputs": [],
   "source": [
    "add_renderer_opts(maraviroc, {\"data-scaffold\": triazole_scaffold});\n",
    "add_renderer_opts(triazole_scaffold, {\"data-hide-cog\": True});"
   ]
  },
  {
   "cell_type": "code",
   "execution_count": null,
   "metadata": {},
   "outputs": [],
   "source": [
    "maraviroc_df = pd.DataFrame({\"Mol\": [maraviroc], \"Scaffold\": [triazole_scaffold]})"
   ]
  },
  {
   "cell_type": "code",
   "execution_count": null,
   "metadata": {},
   "outputs": [],
   "source": [
    "maraviroc_df"
   ]
  },
  {
   "cell_type": "code",
   "execution_count": null,
   "metadata": {},
   "outputs": [],
   "source": [
    "with open(\"molsToGrid.pkl\", \"rb\") as hnd:\n",
    "    mols = pickle.load(hnd)"
   ]
  },
  {
   "cell_type": "code",
   "execution_count": null,
   "metadata": {},
   "outputs": [],
   "source": [
    "MolsToGridImage(mols, molsPerRow=4, maxMols=999)"
   ]
  },
  {
   "cell_type": "code",
   "execution_count": null,
   "metadata": {},
   "outputs": [],
   "source": []
  }
 ],
 "metadata": {
  "kernelspec": {
   "display_name": "rdkit_master",
   "language": "python",
   "name": "rdkit_master"
  },
  "language_info": {
   "codemirror_mode": {
    "name": "ipython",
    "version": 3
   },
   "file_extension": ".py",
   "mimetype": "text/x-python",
   "name": "python",
   "nbconvert_exporter": "python",
   "pygments_lexer": "ipython3",
   "version": "3.8.0"
  }
 },
 "nbformat": 4,
 "nbformat_minor": 4
}
