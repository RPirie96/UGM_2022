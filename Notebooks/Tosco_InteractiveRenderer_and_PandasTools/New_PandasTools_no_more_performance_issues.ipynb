{
 "cells": [
  {
   "cell_type": "code",
   "execution_count": null,
   "id": "d483cc4a-caec-4397-8d89-077dae0b03cd",
   "metadata": {},
   "outputs": [],
   "source": [
    "import base64\n",
    "import pickle\n",
    "import os\n",
    "import pandas as pd\n",
    "from io import BytesIO\n",
    "import requests\n",
    "from ipywidgets import widgets\n",
    "from IPython.display import HTML, SVG, Image, Javascript, display\n",
    "from threading import Thread\n",
    "from datetime import datetime\n",
    "import time"
   ]
  },
  {
   "cell_type": "code",
   "execution_count": null,
   "id": "3015aa16-38e3-4611-a0e0-5e53ac006285",
   "metadata": {},
   "outputs": [],
   "source": [
    "pd.__version__"
   ]
  },
  {
   "cell_type": "code",
   "execution_count": null,
   "id": "facffdf4-dcdf-4a1c-96d1-d7bdcd503b0b",
   "metadata": {},
   "outputs": [],
   "source": [
    "from rdkit import Chem, RDConfig\n",
    "from rdkit.Chem.Draw import rdMolDraw2D, IPythonConsole, MolsToGridImage"
   ]
  },
  {
   "cell_type": "code",
   "execution_count": null,
   "id": "87d6ddf1-f9a5-47fc-83f5-261a7a76fa65",
   "metadata": {},
   "outputs": [],
   "source": [
    "os.getcwd()"
   ]
  },
  {
   "cell_type": "code",
   "execution_count": null,
   "id": "8c960957-2e82-4ceb-ab6c-176db6442eb0",
   "metadata": {},
   "outputs": [],
   "source": [
    "with open(\"JupyterDrawOptions.json\") as hnd:\n",
    "    rdMolDraw2D.UpdateMolDrawOptionsFromJSON(IPythonConsole.drawOptions, hnd.read())"
   ]
  },
  {
   "cell_type": "code",
   "execution_count": null,
   "id": "216c4f76-9ef9-425c-969f-c6b43383cb1e",
   "metadata": {},
   "outputs": [],
   "source": [
    "IPythonConsole.ipython_showProperties = True\n",
    "IPythonConsole.ipython_useSVG = False"
   ]
  },
  {
   "cell_type": "code",
   "execution_count": null,
   "id": "a38efb56-ba4b-40bc-b84a-8e5b9637dce5",
   "metadata": {},
   "outputs": [],
   "source": [
    "from rdkit.Chem import PandasTools"
   ]
  },
  {
   "cell_type": "code",
   "execution_count": null,
   "id": "5895d7eb-8688-4564-9b86-54729d3e2a7a",
   "metadata": {},
   "outputs": [],
   "source": [
    "bilastine_pubchem_url = \"https://pubchem.ncbi.nlm.nih.gov/rest/pug/compound/name/bilastine/SDF\""
   ]
  },
  {
   "cell_type": "code",
   "execution_count": null,
   "id": "e6799814-947a-4cb9-bcd8-46dd3dda150e",
   "metadata": {},
   "outputs": [],
   "source": [
    "response = requests.get(bilastine_pubchem_url, allow_redirects=True)"
   ]
  },
  {
   "cell_type": "code",
   "execution_count": null,
   "id": "3a4f21d7-068c-4591-b65b-0c45f11323e7",
   "metadata": {},
   "outputs": [],
   "source": [
    "assert response.status_code == 200"
   ]
  },
  {
   "cell_type": "code",
   "execution_count": null,
   "id": "00c1fd19-8cd4-48ca-aafa-744e60e1678b",
   "metadata": {
    "tags": []
   },
   "outputs": [],
   "source": [
    "bilastine_sdf = response.content"
   ]
  },
  {
   "cell_type": "code",
   "execution_count": null,
   "id": "0ae9167e-838f-4f92-8173-33b5c8c9ae58",
   "metadata": {},
   "outputs": [],
   "source": [
    "with BytesIO(bilastine_sdf) as buf:\n",
    "    with Chem.ForwardSDMolSupplier(buf) as suppl:\n",
    "        bilastine = next(suppl)"
   ]
  },
  {
   "cell_type": "code",
   "execution_count": null,
   "id": "d5a927c5-49c5-425b-8107-bf45bdad9937",
   "metadata": {},
   "outputs": [],
   "source": [
    "bilastine"
   ]
  },
  {
   "cell_type": "code",
   "execution_count": null,
   "id": "2c13510e-0997-4015-b122-6f0e95eab615",
   "metadata": {},
   "outputs": [],
   "source": [
    "with BytesIO(bilastine_sdf) as buf:\n",
    "    df = PandasTools.LoadSDF(buf)"
   ]
  },
  {
   "cell_type": "code",
   "execution_count": null,
   "id": "f60a8799-1785-412c-8aeb-6a28168485ae",
   "metadata": {},
   "outputs": [],
   "source": [
    "romol = df.ROMol\n",
    "df.drop(columns=[\"ROMol\"], inplace=True)\n",
    "df.insert(0, \"ROMol\", romol)"
   ]
  },
  {
   "cell_type": "markdown",
   "id": "0140376d-d8e3-445e-b0d3-3994c4485c88",
   "metadata": {},
   "source": [
    "The size of the PNG molecule now honors `PandasTools.molSize`:"
   ]
  },
  {
   "cell_type": "code",
   "execution_count": null,
   "id": "a46b9d30-0159-470e-8bb2-50229d51cdfc",
   "metadata": {},
   "outputs": [],
   "source": [
    "df"
   ]
  },
  {
   "cell_type": "code",
   "execution_count": null,
   "id": "bcaf0b0b-e79a-47d5-854c-09c90076be8d",
   "metadata": {},
   "outputs": [],
   "source": [
    "IPythonConsole.InteractiveRenderer.setEnabled()"
   ]
  },
  {
   "cell_type": "code",
   "execution_count": null,
   "id": "2eabdcfb-fe4a-48d3-9a47-6e4d4676c489",
   "metadata": {},
   "outputs": [],
   "source": [
    "PandasTools.molRepresentation = \"svg\""
   ]
  },
  {
   "cell_type": "markdown",
   "id": "1011d9a6-8f81-44dd-8c42-8a2391b76048",
   "metadata": {},
   "source": [
    "The same is true for SVG:"
   ]
  },
  {
   "cell_type": "code",
   "execution_count": null,
   "id": "9a484c1e-35e6-43e5-b9ea-9f513617af05",
   "metadata": {},
   "outputs": [],
   "source": [
    "df"
   ]
  },
  {
   "cell_type": "markdown",
   "id": "0b9642f9-678c-4789-bb20-ec3546010885",
   "metadata": {},
   "source": [
    "`PandasTools.LoadSDF()` automatically calls `RenderImagesInAllDataFrames`, so let's revert that to see what happens when the global flag is not set.\n",
    "\n",
    "As expected, now the molecule is not shown."
   ]
  },
  {
   "cell_type": "code",
   "execution_count": null,
   "id": "09ea184d-c39c-4865-99a1-0b2dd16a23ef",
   "metadata": {},
   "outputs": [],
   "source": [
    "PandasTools.RenderImagesInAllDataFrames(False)"
   ]
  },
  {
   "cell_type": "code",
   "execution_count": null,
   "id": "a515cc60-91e0-476c-9194-fe705f11d1a6",
   "metadata": {},
   "outputs": [],
   "source": [
    "df2 = pd.DataFrame({\"mol\": [bilastine]})"
   ]
  },
  {
   "cell_type": "code",
   "execution_count": null,
   "id": "02ba2552-a62c-469b-8355-e30878a65d24",
   "metadata": {},
   "outputs": [],
   "source": [
    "df2"
   ]
  },
  {
   "cell_type": "markdown",
   "id": "09c3217c-b511-46ef-9056-b33314ab1b6a",
   "metadata": {},
   "source": [
    "The DataFrame should be displayed with molecules after calling `ChangeMoleculeRendering` on it, and indeed it is:"
   ]
  },
  {
   "cell_type": "code",
   "execution_count": null,
   "id": "5fc7e5a8-12c1-47c0-9f79-a2a06225a7f2",
   "metadata": {},
   "outputs": [],
   "source": [
    "PandasTools.ChangeMoleculeRendering(df2)"
   ]
  },
  {
   "cell_type": "code",
   "execution_count": null,
   "id": "6da92f2c-9453-405b-8eb3-e0925a0cc558",
   "metadata": {},
   "outputs": [],
   "source": [
    "df2"
   ]
  },
  {
   "cell_type": "code",
   "execution_count": null,
   "id": "2b07561a-4a8f-4ec4-a6fc-cd55ec531ba7",
   "metadata": {},
   "outputs": [],
   "source": [
    "df3 = pd.DataFrame({\"mol\": [bilastine]})"
   ]
  },
  {
   "cell_type": "code",
   "execution_count": null,
   "id": "c15535b4-ba05-4ba1-9210-5ac23f0f8a64",
   "metadata": {},
   "outputs": [],
   "source": [
    "df3"
   ]
  },
  {
   "cell_type": "markdown",
   "id": "d33567cc-7a9c-4a22-970b-9f1567971352",
   "metadata": {},
   "source": [
    "Also the global flag works..."
   ]
  },
  {
   "cell_type": "code",
   "execution_count": null,
   "id": "3e9f039c-c24f-43f9-ab69-2798298c3954",
   "metadata": {},
   "outputs": [],
   "source": [
    "PandasTools.RenderImagesInAllDataFrames()"
   ]
  },
  {
   "cell_type": "code",
   "execution_count": null,
   "id": "51adae7b-e21c-4875-86f9-78854b61ba4c",
   "metadata": {},
   "outputs": [],
   "source": [
    "df3"
   ]
  },
  {
   "cell_type": "markdown",
   "id": "703f4fa6-8f74-4be2-b3a7-5cd5ec6189e2",
   "metadata": {},
   "source": [
    "...and it can be reverted:"
   ]
  },
  {
   "cell_type": "code",
   "execution_count": null,
   "id": "9dab9865-bd97-4ea3-ada3-be7ffe00cda8",
   "metadata": {},
   "outputs": [],
   "source": [
    "PandasTools.RenderImagesInAllDataFrames(False)"
   ]
  },
  {
   "cell_type": "code",
   "execution_count": null,
   "id": "f8060235-93de-4e6e-957d-681980cf72fd",
   "metadata": {},
   "outputs": [],
   "source": [
    "df3"
   ]
  },
  {
   "cell_type": "code",
   "execution_count": null,
   "id": "83daec4a-15d3-489a-be71-6e1ec045c555",
   "metadata": {},
   "outputs": [],
   "source": [
    "PandasTools.RenderImagesInAllDataFrames()"
   ]
  },
  {
   "cell_type": "code",
   "execution_count": null,
   "id": "13b73da3-9a98-4ddb-af5b-ba8c3237e6e9",
   "metadata": {},
   "outputs": [],
   "source": [
    "def counter_box():\n",
    "    return widgets.HTML(value=f\"<code>0</code>\").add_class(\"Chem_Mol__str__counter\")"
   ]
  },
  {
   "cell_type": "code",
   "execution_count": null,
   "id": "cab8c49b-4077-4eea-bad5-6e27dae16597",
   "metadata": {},
   "outputs": [],
   "source": [
    "def reposition_counter_box(widget):\n",
    "    display(Javascript(\"\"\"\n",
    "const div = document.querySelector('div[class*=Chem_Mol__str__counter]');\n",
    "const label = div.querySelector('label');\n",
    "const titleDiv = document.createElement('div');\n",
    "titleDiv.style = 'margin-bottom: 4px';\n",
    "titleDiv.innerHTML = '<code>Chem.Mol.__str.__</code> call counter';\n",
    "const countDiv = div.querySelector('div[class=widget-html-content]');\n",
    "countDiv.style.textAlign = 'right';\n",
    "div.insertBefore(titleDiv, label);\n",
    "const TOP_PADDING = 120;\n",
    "const RIGHT_PADDING = 100;\n",
    "const viewPortWidth = window.innerWidth || document.body.clientWidth;\n",
    "div.style = `display: block; position: absolute; ` +\n",
    "            `border: 2px solid black; background-color: white; ` +\n",
    "            `padding: 8px; top: ${TOP_PADDING}px; z-index: 9999;`;\n",
    "document.body.appendChild(div);\n",
    "const rect = div.getBoundingClientRect();\n",
    "const left = Math.round(viewPortWidth - rect.width - RIGHT_PADDING);\n",
    "div.style.left = `${left}px`;\n",
    "\"\"\"))"
   ]
  },
  {
   "cell_type": "code",
   "execution_count": null,
   "id": "eaf3dbf0-b2f0-4bbc-8075-a36f7da74747",
   "metadata": {},
   "outputs": [],
   "source": [
    "counter_widget = counter_box()"
   ]
  },
  {
   "cell_type": "code",
   "execution_count": null,
   "id": "a5e2df25-9595-468a-9f08-6b2b13f4e250",
   "metadata": {},
   "outputs": [],
   "source": [
    "counter_widget"
   ]
  },
  {
   "cell_type": "code",
   "execution_count": null,
   "id": "f71e7455-85e1-4e24-9943-329ba5202781",
   "metadata": {},
   "outputs": [],
   "source": [
    "reposition_counter_box(counter_widget)"
   ]
  },
  {
   "cell_type": "markdown",
   "id": "da6da214-ac8e-46a4-ad65-151d1767a4f1",
   "metadata": {},
   "source": [
    "We patch `Chem.Mol.__str__` to show that it gets called for all variables defined in the Jupyter Notebook after each cell is executed:"
   ]
  },
  {
   "cell_type": "code",
   "execution_count": null,
   "id": "7ddb219a-0b93-4cfc-8ff2-5fe47f543ece",
   "metadata": {},
   "outputs": [],
   "source": [
    "def new_str_method(x):\n",
    "    \"\"\"Increment call count, then call the original method\"\"\"\n",
    "    new_str_method.__call_count += 1\n",
    "    return orig_str_method(x)"
   ]
  },
  {
   "cell_type": "code",
   "execution_count": null,
   "id": "3e982cab-6bf3-435d-bc01-c5650b935b0f",
   "metadata": {},
   "outputs": [],
   "source": [
    "# patch Chem.Mol.__str__\n",
    "# (which had been previously patched by PandasTools)\n",
    "if not hasattr(Chem.Mol.__str__, \"__call_count\"):\n",
    "    orig_str_method = Chem.Mol.__str__\n",
    "    Chem.Mol.__str__ = new_str_method\n",
    "    setattr(new_str_method, \"__call_count\", 0)"
   ]
  },
  {
   "cell_type": "code",
   "execution_count": null,
   "id": "43d0af16-53c7-488d-91e8-6e2fcd369d5c",
   "metadata": {},
   "outputs": [],
   "source": [
    "def update_counter_box(counter_widget, new_str_method):\n",
    "    UPDATE_INTERVAL_SECONDS = 1\n",
    "    while not hasattr(update_counter_box, \"stop\"):\n",
    "        counter_widget.value = f\"<code>{new_str_method.__call_count}</code>\"\n",
    "        time.sleep(UPDATE_INTERVAL_SECONDS)"
   ]
  },
  {
   "cell_type": "markdown",
   "id": "62810a6d-3b3d-4450-b8ee-ab7328b322ed",
   "metadata": {},
   "source": [
    "We start a background thread that updates the counter box every second:"
   ]
  },
  {
   "cell_type": "code",
   "execution_count": null,
   "id": "8da35ab0-a9eb-4e84-a3c7-a18d057bea86",
   "metadata": {},
   "outputs": [],
   "source": [
    "t = Thread(target=update_counter_box, args=(counter_widget, new_str_method), daemon=True)"
   ]
  },
  {
   "cell_type": "code",
   "execution_count": null,
   "id": "9d17578d-4b29-4975-88b0-c72f4890243d",
   "metadata": {},
   "outputs": [],
   "source": [
    "t.start()"
   ]
  },
  {
   "cell_type": "markdown",
   "id": "8c10d00f-dcd0-4fde-a04e-739ebcb58b53",
   "metadata": {},
   "source": [
    "We load 5000 molecules:"
   ]
  },
  {
   "cell_type": "code",
   "execution_count": null,
   "id": "d72cc1db-797b-4228-b632-9719b392ed70",
   "metadata": {},
   "outputs": [],
   "source": [
    "smi5000 = os.path.join(RDConfig.RDDataDir, \"NCI\", \"first_5K.smi\")"
   ]
  },
  {
   "cell_type": "code",
   "execution_count": null,
   "id": "09e1e467-1aba-4111-aeaa-15d71836e0d9",
   "metadata": {},
   "outputs": [],
   "source": [
    "assert os.path.exists(smi5000)"
   ]
  },
  {
   "cell_type": "code",
   "execution_count": null,
   "id": "e48409ce-3b9b-433a-b3c9-3efd07a42a04",
   "metadata": {},
   "outputs": [],
   "source": [
    "with Chem.SmilesMolSupplier(smi5000, delimiter=\"\\t\") as suppl:\n",
    "    mols = [mol for mol in suppl if mol]"
   ]
  },
  {
   "cell_type": "code",
   "execution_count": null,
   "id": "cb24c46f-15f0-4aeb-8f58-f535e25daae2",
   "metadata": {},
   "outputs": [],
   "source": [
    "len(mols)"
   ]
  },
  {
   "cell_type": "markdown",
   "id": "4231f949-e8c1-4aed-8dd0-709a8ce14429",
   "metadata": {},
   "source": [
    "Now for each of the 4991 molecules we define a variable in the Notebook's namespace:"
   ]
  },
  {
   "cell_type": "code",
   "execution_count": null,
   "id": "d3ddc82c-9efa-4f0f-a672-0ebc452492c3",
   "metadata": {},
   "outputs": [],
   "source": [
    "for i in range(len(mols)):\n",
    "    exec(f\"mol{i} = mols[{i}]\")"
   ]
  },
  {
   "cell_type": "markdown",
   "id": "5f32c38d-5a08-4b4d-b4d8-39fddd50e960",
   "metadata": {},
   "source": [
    "Looking at the counter box, you may see that the counter was incremented for each molecule added to the Notebook as a separate variable."
   ]
  },
  {
   "cell_type": "markdown",
   "id": "15db0ccc-a9e8-4010-a10b-38b479650895",
   "metadata": {},
   "source": [
    "However, now the counter updates are instantaneous, as `Chem.Mol.__str__` only prints a string as per its default behavior, which takes negligible time."
   ]
  },
  {
   "cell_type": "code",
   "execution_count": null,
   "id": "ebd52bbd-88f5-4fd2-b6d7-6d868453c985",
   "metadata": {},
   "outputs": [],
   "source": [
    "datetime.now()"
   ]
  },
  {
   "cell_type": "code",
   "execution_count": null,
   "id": "43c2e3fb-cca8-4ad2-98b8-97c618e8e2a7",
   "metadata": {},
   "outputs": [],
   "source": [
    "datetime.now()"
   ]
  },
  {
   "cell_type": "code",
   "execution_count": null,
   "id": "202d91a8-a99b-4d3e-8bce-39085c6a427b",
   "metadata": {},
   "outputs": [],
   "source": [
    "df4991 = pd.DataFrame({\"mols\": mols})"
   ]
  },
  {
   "cell_type": "code",
   "execution_count": null,
   "id": "fc67bcc0-cb31-414b-bdea-918ee13b1f96",
   "metadata": {},
   "outputs": [],
   "source": [
    "df4991"
   ]
  },
  {
   "cell_type": "markdown",
   "id": "a230206d-7d0c-48d0-a9c2-2655d42c8a9e",
   "metadata": {},
   "source": [
    "## Enjoy your snappy `PandasTools`-enabled Jupter Notebook!"
   ]
  },
  {
   "cell_type": "code",
   "execution_count": null,
   "id": "6e0d11e3-0032-4e2d-9b16-706c0bb73779",
   "metadata": {},
   "outputs": [],
   "source": [
    "setattr(update_counter_box, \"stop\", True)\n",
    "counter_widget.close()"
   ]
  },
  {
   "cell_type": "code",
   "execution_count": null,
   "id": "614da81c-d0bc-4548-8bf7-a5e04a68c658",
   "metadata": {},
   "outputs": [],
   "source": []
  }
 ],
 "metadata": {
  "kernelspec": {
   "display_name": "rdkit_master",
   "language": "python",
   "name": "rdkit_master"
  },
  "language_info": {
   "codemirror_mode": {
    "name": "ipython",
    "version": 3
   },
   "file_extension": ".py",
   "mimetype": "text/x-python",
   "name": "python",
   "nbconvert_exporter": "python",
   "pygments_lexer": "ipython3",
   "version": "3.8.0"
  }
 },
 "nbformat": 4,
 "nbformat_minor": 5
}
